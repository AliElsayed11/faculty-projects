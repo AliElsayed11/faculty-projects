{
  "cells": [
    {
      "cell_type": "markdown",
      "source": [
        "# **Name: Ali mohamed sayed ahmed**\n",
        "# **ID: 20221449583**"
      ],
      "metadata": {
        "id": "qvJPjaFde-ZD"
      },
      "id": "qvJPjaFde-ZD"
    },
    {
      "cell_type": "markdown",
      "source": [
        "**Uniform and kolmogorov**"
      ],
      "metadata": {
        "id": "M3M40tcJkQ0y"
      },
      "id": "M3M40tcJkQ0y"
    },
    {
      "cell_type": "code",
      "execution_count": 11,
      "id": "d035e267-a1ca-403e-aded-25f5f7636ec6",
      "metadata": {
        "id": "d035e267-a1ca-403e-aded-25f5f7636ec6"
      },
      "outputs": [],
      "source": [
        "from scipy.stats import chisquare,kstest\n",
        "import numpy as np\n",
        "from scipy.stats import norm\n",
        "import scipy.stats as stats\n",
        "\n",
        "\n",
        "def uni_test(sample, alpha=0.05, bins=256):\n",
        "    \"\"\"\n",
        "    Use chi-square to test for uniformity) where:\n",
        "\n",
        "    - H0 (null hypothesis) is that the sample is uniform\n",
        "    - H1 (alternate hypothesis) the sample is not uniform\n",
        "\n",
        "    To test for uniformity, the p-value should lie in the range of alpha < p < 1 - alpha\n",
        "\n",
        "    :param sample: Generated samples from random generators\n",
        "    :param alpha: Significance level, default of 0.05\n",
        "    :param bins: The number of bins to divide the samples\n",
        "    :return: True if we can't reject the null hypothesis of uniformity, False otherwise.\n",
        "    Also the p-value of the statistic wih a chi-square distribution\n",
        "    \"\"\"\n",
        "\n",
        "    intervals = np.linspace(0, 1, bins)\n",
        "    observations, _ = np.histogram(sample, intervals)\n",
        "\n",
        "    _, p_value = chisquare(observations)\n",
        "\n",
        "    return True if alpha < p_value < 1 - alpha else False, p_value\n",
        "def ks_test(sample, alpha=0.05):\n",
        "    \"\"\"\n",
        "    Kolmogorov-Smirnov test. It is basically the same implementation as the one in scipy\n",
        "    with the added difference that a boolean is returned on whether the H0\n",
        "    of uniformity is not rejected (True) and false if reject H0.\n",
        "\n",
        "    :param sample: Generated samples from random generators\n",
        "    :param alpha: Significance level, default of 0.05\n",
        "    :return: True if we fail to reject the H0 of uniformity. Also returns\n",
        "    the p-value corresponding to the Kolmogorov-Smirnov test.\n",
        "    \"\"\"\n",
        "\n",
        "    d0, p_value = kstest(sample, \"uniform\")\n",
        "\n",
        "    return True if alpha < p_value else False, p_value\n"
      ]
    },
    {
      "cell_type": "code",
      "execution_count": 8,
      "id": "b6ad326d-3429-4ee3-b1fb-dbf6db951df3",
      "metadata": {
        "colab": {
          "base_uri": "https://localhost:8080/"
        },
        "id": "b6ad326d-3429-4ee3-b1fb-dbf6db951df3",
        "outputId": "5434faee-e56d-496e-bfdb-d50825ac1a24"
      },
      "outputs": [
        {
          "output_type": "execute_result",
          "data": {
            "text/plain": [
              "(False, 0.0)"
            ]
          },
          "metadata": {},
          "execution_count": 8
        }
      ],
      "source": [
        "sample=[37,55,71,97,65,29,81,78,23]\n",
        "ks_test(sample, alpha=0.95)"
      ]
    },
    {
      "cell_type": "code",
      "source": [
        "sample=[49,95,82,19,41,31,12,53,62,40,87,83,26,1]\n",
        "\n",
        "uni_test(sample, alpha=0.95, bins=10)"
      ],
      "metadata": {
        "colab": {
          "base_uri": "https://localhost:8080/"
        },
        "id": "Qnax4zaCbLg3",
        "outputId": "84c64f0f-b906-4057-c483-8881eb743d6e"
      },
      "id": "Qnax4zaCbLg3",
      "execution_count": 9,
      "outputs": [
        {
          "output_type": "execute_result",
          "data": {
            "text/plain": [
              "(False, 0.43347012036670896)"
            ]
          },
          "metadata": {},
          "execution_count": 9
        }
      ]
    },
    {
      "cell_type": "markdown",
      "source": [
        "**poker_test**"
      ],
      "metadata": {
        "id": "V5GKHgrzkCEu"
      },
      "id": "V5GKHgrzkCEu"
    },
    {
      "cell_type": "code",
      "source": [
        "def poker_test(observed):\n",
        "    expected = np.array([3024, 5040, 1080, 720, 90, 45, 1])  # Expected frequencies based on probabilities\n",
        "    chi_square, _ = stats.chisquare(observed, expected)\n",
        "    return chi_square\n",
        "\n",
        "observed = [3075, 4935, 1135, 695, 105, 54, 1]   # Observed frequencies\n",
        "\n",
        "# Perform the poker test\n",
        "chi_square = poker_test(observed)\n",
        "\n",
        "# Degrees of freedom\n",
        "degrees_of_freedom = len(observed)-1\n",
        "alpha = 0.01\n",
        "critical_value = stats.chi2.ppf(1 - alpha, degrees_of_freedom)\n",
        "\n",
        "if chi_square > critical_value:\n",
        "    print(\"Reject the null hypothesis\")\n",
        "else:\n",
        "    print(\"Fail to reject the null hypothesis\")"
      ],
      "metadata": {
        "colab": {
          "base_uri": "https://localhost:8080/"
        },
        "id": "bMy_-l2qiIZA",
        "outputId": "08b338d9-86e7-499f-b54f-6e47e52584e0"
      },
      "id": "bMy_-l2qiIZA",
      "execution_count": 15,
      "outputs": [
        {
          "output_type": "stream",
          "name": "stdout",
          "text": [
            "Fail to reject the null hypothesis\n"
          ]
        }
      ]
    },
    {
      "cell_type": "markdown",
      "source": [
        "**Z-Test**"
      ],
      "metadata": {
        "id": "4VNLEx7mkLFE"
      },
      "id": "4VNLEx7mkLFE"
    },
    {
      "cell_type": "code",
      "source": [
        "##Z-Test\n",
        "# Given data from lecture\n",
        "rn = [0.12, 0.01, 0.23, 0.28, 0.89, 0.31, 0.64, 0.28, 0.83, 0.93,\n",
        "     0.99, 0.15, 0.33, 0.35, 0.91, 0.41, 0.60, 0.27, 0.75, 0.88,\n",
        "     0.68, 0.49, 0.05, 0.43, 0.95, 0.58, 0.19, 0.36, 0.69, 0.87]\n",
        "\n",
        "# Parameters from lecture\n",
        "i = 3\n",
        "m = 5\n",
        "N = len(rn)\n",
        "M = int(((N - i) / m) - 1)\n",
        "alpha = 0.05\n",
        "\n",
        "# Calculate P35\n",
        "R = 0\n",
        "for k in range(m):\n",
        "    R += (rn[(i - 1 )+ k * m] * rn[(i - 1) + (k + 1) * m])\n",
        "P35 = (1 / (M + 1)) * R - 0.25\n",
        "\n",
        "# Calculate sigma\n",
        "sigma = np.sqrt(13 * M + 7) / (12 * (M + 1))\n",
        "\n",
        "# Perform the hypothesis test\n",
        "Z = P35 / sigma\n",
        "print(\"P35:\", P35)\n",
        "print(\"sigma:\", sigma)\n",
        "print(\"Z score:\", Z)\n",
        "critical_value = 1.96\n",
        "if abs(Z) > critical_value:\n",
        "    print(\"Reject H0 the null hypothesis\")\n",
        "else:\n",
        "    print(\"Fail to reject H0 the null hypothesis\")"
      ],
      "metadata": {
        "colab": {
          "base_uri": "https://localhost:8080/"
        },
        "id": "8ipslFfMiMhn",
        "outputId": "2512524a-69e5-4c92-e9fe-b73aa8534949"
      },
      "id": "8ipslFfMiMhn",
      "execution_count": 14,
      "outputs": [
        {
          "output_type": "stream",
          "name": "stdout",
          "text": [
            "P35: -0.19452\n",
            "sigma: 0.12801909579781012\n",
            "Z score: -1.5194608178393916\n",
            "Fail to reject H0 the null hypothesis\n"
          ]
        }
      ]
    },
    {
      "cell_type": "code",
      "source": [],
      "metadata": {
        "id": "CUU29KeKjETV"
      },
      "id": "CUU29KeKjETV",
      "execution_count": null,
      "outputs": []
    }
  ],
  "metadata": {
    "kernelspec": {
      "display_name": "Python 3 (ipykernel)",
      "language": "python",
      "name": "python3"
    },
    "language_info": {
      "codemirror_mode": {
        "name": "ipython",
        "version": 3
      },
      "file_extension": ".py",
      "mimetype": "text/x-python",
      "name": "python",
      "nbconvert_exporter": "python",
      "pygments_lexer": "ipython3",
      "version": "3.9.13"
    },
    "colab": {
      "provenance": []
    }
  },
  "nbformat": 4,
  "nbformat_minor": 5
}
{
  "nbformat": 4,
  "nbformat_minor": 0,
  "metadata": {
    "colab": {
      "provenance": []
    },
    "kernelspec": {
      "name": "python3",
      "display_name": "Python 3"
    },
    "language_info": {
      "name": "python"
    }
  },
  "cells": [
    {
      "cell_type": "code",
      "source": [
        "import numpy as np\n",
        "\n",
        "def func(x):\n",
        "    # function f(x) = x^4/3\n",
        "    return x**4 / 3\n",
        "\n",
        "def func_int(a, b):\n",
        "    # analytical solution to integral of f(x)\n",
        "    return (b**5 - a**5) / 15\n",
        "\n",
        "def mc_integrate(func, a, b, n=20):\n",
        "    # Monte Carlo integration between a and b of given function\n",
        "\n",
        "    vals = np.random.uniform(a, b, n)\n",
        "    y = [func(val) for val in vals]\n",
        "\n",
        "    y_mean = np.mean(y)\n",
        "    integ = (b - a) * y_mean\n",
        "\n",
        "    return integ\n",
        "\n",
        "# Provided random numbers\n",
        "# random_numbers = [22, 57, 25, 18, 18, 100, 45, 90, 25, 5, 27, 77, 48, 66, 43, 10, 40, 76, 47, 42, 38, 78, 33, 88, 24, 3, 47, 9, 42, 77, 25, 61, 33, 27, 50, 60, 34, 29, 21, 40]\n",
        "random_numbers =[4, 32, 39, 73, 24, 89, 38, 24, 45, 9, 18, 55, 44, 15, 12, 17, 49, 40, 50, 80, 14, 53, 3, 46, 26, 11, 36, 66, 11, 30, 26, 20, 41, 50, 16, 85, 14, 92, 16, 88]\n",
        "\n",
        "# Adjust random numbers to fit between a and b\n",
        "a = 1\n",
        "b = 5\n",
        "scaled_random_numbers = [a + (b - a) * num / 100 for num in random_numbers]\n",
        "\n",
        "# Estimate the integral\n",
        "integral_mc = mc_integrate(func, a, b, 20)\n",
        "integral_analytical = func_int(a, b)\n",
        "\n",
        "# Print the results\n",
        "print(f\"Monte Carlo solution: {integral_mc:.4f}\")\n",
        "print(f\"Analytical solution: {integral_analytical:.4f}\")\n"
      ],
      "metadata": {
        "colab": {
          "base_uri": "https://localhost:8080/"
        },
        "id": "4OwpLgUSEU07",
        "outputId": "86bfa89c-4a24-4628-d656-465df7cb5a36"
      },
      "execution_count": 123,
      "outputs": [
        {
          "output_type": "stream",
          "name": "stdout",
          "text": [
            "Monte Carlo solution: 212.3060\n",
            "Analytical solution: 208.2667\n"
          ]
        }
      ]
    }
  ]
}
{
  "nbformat": 4,
  "nbformat_minor": 0,
  "metadata": {
    "colab": {
      "provenance": []
    },
    "kernelspec": {
      "name": "python3",
      "display_name": "Python 3"
    },
    "language_info": {
      "name": "python"
    }
  },
  "cells": [
    {
      "cell_type": "code",
      "execution_count": null,
      "metadata": {
        "id": "25gLttTbS64a"
      },
      "outputs": [],
      "source": [
        "import numpy as np\n",
        "import pandas as pd\n",
        "import os\n",
        "import queue\n",
        "import random\n",
        "import csv"
      ]
    },
    {
      "cell_type": "code",
      "source": [
        "class task:\n",
        "    totalWaitingTime, numOftasks = 0, 0  # Class variables for total waiting time and number of tasks\n",
        "\n",
        "    def csv(self):  # Method to convert task data to CSV format\n",
        "        data = [\n",
        "            str(self.id), str(self.IAT), str(self.AT), str(self.ASTBegin), str(self.AST),\n",
        "            str(self.ASTEnds), str(self.BSTBegin), str(self.BST), str(self.BSTEnds),\n",
        "            str(self.WT), str(self.timespend), str(self.idle)\n",
        "        ]\n",
        "        return data\n",
        "\n",
        "    def __init__(self):  # Constructor method to initialize task attributes\n",
        "        id, IAT, AST, AT, WT, timespend, ASTBegin, ASTEnds, idle = 0, 0, 0, 0, 0, 0, 0, 0, 0\n",
        "        BST, BSTBegin, BSTEnds = 0, 0, 0  # Initialize variables to 0\n",
        "        self.numOftasks += 1  # Increment the number of tasks when a new task is created\n",
        "\n",
        "    def IATgenerator(self, RN, m):  # Method to generate Inter-Arrival Time (IAT)\n",
        "        r = RN[m]  # Get random number from RN list\n",
        "        IAT = 0  # Initialize IAT\n",
        "\n",
        "        # Determine IAT based on ranges of random number\n",
        "        if r >= 0 and r <= 24:\n",
        "            IAT = 1\n",
        "        elif r >= 25 and r <= 64:\n",
        "            IAT = 2\n",
        "        elif r >= 65 and r <= 84:\n",
        "            IAT = 3\n",
        "        elif r >= 85 and r <= 99:\n",
        "            IAT = 4\n",
        "\n",
        "        return IAT\n"
      ],
      "metadata": {
        "id": "LKu5gBQTS_8t"
      },
      "execution_count": null,
      "outputs": []
    },
    {
      "cell_type": "code",
      "source": [
        "class able:\n",
        "    state = 0  # State of the able\n",
        "    AbleST = 0  # Able's service time\n",
        "    currentST = 0  # Current service time\n",
        "    totalServicesTime = 0  # Total service time\n",
        "\n",
        "    def serviceTimeGeneretorAble(self, RM, m):  # Method to generate service time for Able\n",
        "        r = RM[m]  # Get random number from RM list\n",
        "        serviceTime = 0  # Initialize service time\n",
        "\n",
        "        # Determine service time based on ranges of random number\n",
        "        if r >= 0 and r <= 29:\n",
        "            serviceTime = 2\n",
        "        elif r >= 30 and r <= 57:\n",
        "            serviceTime = 3\n",
        "        elif r >= 58 and r <= 82:\n",
        "            serviceTime = 4\n",
        "        elif r >= 83 and r <= 99:\n",
        "            serviceTime = 5\n",
        "\n",
        "        return serviceTime\n"
      ],
      "metadata": {
        "id": "22pJHQcyTIf1"
      },
      "execution_count": null,
      "outputs": []
    },
    {
      "cell_type": "code",
      "source": [
        "class baker:\n",
        "    state = 0  # State of the baker\n",
        "    BakerST = 0  # Baker's service time\n",
        "    currentST = 0  # Current service time\n",
        "    totalServicesTime = 0  # Total service time\n",
        "\n",
        "    def serviceTimeGeneretorBaker(self, RN, m):  # Method to generate service time for Baker\n",
        "        r = RN[m]  # Get random number from RN list\n",
        "        serviceTime = 0  # Initialize service time\n",
        "\n",
        "        # Determine service time based on ranges of random number\n",
        "        if r >= 0 and r <= 34:\n",
        "            serviceTime = 2\n",
        "        elif r >= 35 and r <= 59:\n",
        "            serviceTime = 3\n",
        "        elif r >= 60 and r <= 79:\n",
        "            serviceTime = 4\n",
        "        elif r >= 80 and r <= 99:\n",
        "            serviceTime = 5\n",
        "\n",
        "        return serviceTime\n"
      ],
      "metadata": {
        "id": "rAaanTwCTNHI"
      },
      "execution_count": null,
      "outputs": []
    },
    {
      "cell_type": "code",
      "source": [
        "Able = able()  # Creating an instance of the 'able' class\n",
        "Baker = baker()  # Creating an instance of the 'baker' class\n",
        "taskQueue = queue.Queue()  # Creating a queue to hold tasks\n",
        "taskInfo = []  # List to hold task information\n",
        "\n",
        "# Initializing variables\n",
        "nextAt, nextIAT, nextWT, totalWT, numOftasksWhoWaited, tempforidleBaker, tempforidleAble = 0, 0, 0, 0, 0, 0, 0\n",
        "\n",
        "# User input for simulation time and choice of random numbers\n",
        "simulationTime = int(input(\"Enter simulation time: \"))\n",
        "choice = int(input(\"Enter 1 to use the same assignment's numbers or Enter 2 to use random numbers from the table: \"))\n",
        "\n",
        "# Assigning random numbers based on user's choice\n",
        "if choice == 1:\n",
        "    RN = [26, 95, 98, 21, 90, 51, 26, 92, 42, 89, 74, 38, 80, 13, 68, 61,\n",
        "          22, 50, 48, 49, 34, 39, 45, 53, 24, 88, 34, 1, 63, 81, 38, 53, 80, 81, 42,\n",
        "          64, 56, 1, 89, 67, 18, 1, 51, 47, 71, 75, 16, 57, 92, 87, 47, 16, 98, 34, 21, 96, 90]\n",
        "    m = 0\n",
        "elif choice == 2:\n",
        "    RN = [94, 73, 70, 82, 25, 35, 61, 42, 48, 26, 88, 31, 90, 55, 95, 58, 70,\n",
        "          15, 73, 65, 74, 75, 98, 72, 59, 85, 98, 21, 32, 96, 89,\n",
        "          32, 67, 48, 63, 99, 98, 66, 85, 58, 6, 39, 15, 2, 48, 63,\n",
        "          85, 61, 40, 16, 18, 52, 71, 16, 34, 96, 90, 85, 81, 46, 53, 49, 65, 17, 30, 3, 50]\n",
        "    m = random.randint(0, 10)\n",
        "\n",
        "id = 1  # Initializing task ID\n",
        "\n",
        "# Simulation loop\n",
        "for clock in range(0, simulationTime) or queue.size > 0:\n",
        "    # Creating new tasks if it's their arrival time\n",
        "    if clock == nextAt:\n",
        "        newtask = task()\n",
        "        newtask.id = id\n",
        "        newtask.AT = nextAt\n",
        "        newtask.IAT = nextIAT\n",
        "        taskQueue.put(newtask)\n",
        "        nextIAT = newtask.IATgenerator(RN, m)\n",
        "        m += 1\n",
        "        if nextAt + nextIAT < simulationTime:\n",
        "            nextAt = nextIAT + nextAt\n",
        "        id += 1\n",
        "\n",
        "    # Processing tasks by Baker\n",
        "    if Baker.state == 0:\n",
        "        if not taskQueue.empty():\n",
        "            Baker.state = 1\n",
        "            removedOfQueue = taskQueue.get()\n",
        "            removedOfQueue.BST = Baker.serviceTimeGeneretorBaker(RN, m)\n",
        "            m += 1\n",
        "            removedOfQueue.WT = clock - removedOfQueue.AT\n",
        "            removedOfQueue.timespend = removedOfQueue.BST + removedOfQueue.WT\n",
        "            removedOfQueue.BSTBegin = clock\n",
        "            removedOfQueue.idle = removedOfQueue.BSTBegin - tempforidleBaker\n",
        "            removedOfQueue.BSTEnds = clock + removedOfQueue.BST\n",
        "            removedOfQueue.AST, removedOfQueue.ASTBegin, removedOfQueue.ASTEnds = \" \", \" \", \" \"\n",
        "            tempforidleBaker = removedOfQueue.BSTEnds\n",
        "            Baker.currentST = removedOfQueue.BST\n",
        "            Baker.totalServicesTime += removedOfQueue.BST\n",
        "            taskInfo.append(removedOfQueue)\n",
        "    else:\n",
        "        Baker.currentST -= 1\n",
        "        if Baker.currentST == 1:\n",
        "            Baker.state = 0\n",
        "\n",
        "    # Processing tasks by Able\n",
        "    if Able.state == 0:\n",
        "        if not taskQueue.empty():\n",
        "            Able.state = 1\n",
        "            removedOfQueue = taskQueue.get()\n",
        "            removedOfQueue.AST = Able.serviceTimeGeneretorAble(RN, m)\n",
        "            m += 1\n",
        "            removedOfQueue.WT = clock - removedOfQueue.AT\n",
        "            removedOfQueue.timespend = removedOfQueue.AST + removedOfQueue.WT\n",
        "            removedOfQueue.ASTBegin = clock\n",
        "            removedOfQueue.idle = removedOfQueue.ASTBegin - tempforidleAble\n",
        "            removedOfQueue.ASTEnds = clock + removedOfQueue.AST\n",
        "            removedOfQueue.BST, removedOfQueue.BSTBegin, removedOfQueue.BSTEnds = \" \", \" \", \" \"\n",
        "            tempforidleAble = removedOfQueue.ASTEnds\n",
        "            Able.currentST = removedOfQueue.AST\n",
        "            Able.totalServicesTime += removedOfQueue.AST\n",
        "            taskInfo.append(removedOfQueue)\n",
        "    else:\n",
        "        Able.currentST -= 1\n",
        "        if Able.currentST == 1:\n",
        "            Able.state = 0\n"
      ],
      "metadata": {
        "colab": {
          "base_uri": "https://localhost:8080/"
        },
        "id": "cu3DCdVWTRbG",
        "outputId": "6fbf832c-9b31-4434-e44d-fe3998b3d0c1"
      },
      "execution_count": null,
      "outputs": [
        {
          "name": "stdout",
          "output_type": "stream",
          "text": [
            "Enter simulation time: 60\n",
            "Enter 1 to use the same assignment's numbers or Enter 2 to use random numbers from the table: 1\n"
          ]
        }
      ]
    },
    {
      "cell_type": "code",
      "source": [
        "csv_file = []  # List to hold CSV data\n",
        "path = 'simulation.csv'  # File path for CSV file\n",
        "\n",
        "# Check if the file already exists, if so, remove it\n",
        "if os.path.exists(path) and os.path.isfile(path):\n",
        "    os.remove(path)\n",
        "\n",
        "# Open the file in write mode\n",
        "file = open(path, 'w', newline='')\n",
        "writer = csv.writer(file)\n",
        "\n",
        "# Write header row for the CSV file\n",
        "writer.writerow(['id', 'IAT', 'AT', 'A-ST begin', 'A-ST', 'A-ST ends', 'B-ST begin', 'B-ST', 'B-ST ends', 'WT', 'Time spend', 'idle time'])\n",
        "\n",
        "# Write task information to the CSV file\n",
        "for i in range(0, len(taskInfo)):\n",
        "    writer.writerow(taskInfo[i].csv())  # Writing CSV data for each task\n",
        "    if taskInfo[i].WT > 0:\n",
        "        numOftasksWhoWaited += 1  # Increment count of tasks that waited\n",
        "        totalWT = totalWT + taskInfo[i].WT  # Accumulate total waiting time\n",
        "\n",
        "file.close()  # Close the CSV file\n",
        "\n",
        "# Calculate and print statistics\n",
        "print(\"Able busy time percentage to total time\", (Able.totalServicesTime / nextAt) * 100)\n",
        "print(\"Baker busy time percentage to total time\", (Baker.totalServicesTime / nextAt) * 100)\n",
        "print(\"Average waiting Time =\", numOftasksWhoWaited / totalWT)\n"
      ],
      "metadata": {
        "colab": {
          "base_uri": "https://localhost:8080/"
        },
        "id": "BSfMxM6pTbrr",
        "outputId": "ec2cda6f-051d-49ad-f684-fe3bdf63406e"
      },
      "execution_count": null,
      "outputs": [
        {
          "output_type": "stream",
          "name": "stdout",
          "text": [
            "Able busy time percentage to total time 66.10169491525424\n",
            "Baker busy time percentage to total time 86.4406779661017\n",
            "Average waiting Time = 1.0\n"
          ]
        }
      ]
    },
    {
      "cell_type": "code",
      "source": [],
      "metadata": {
        "id": "8UE3vYJ-TuKo"
      },
      "execution_count": null,
      "outputs": []
    }
  ]
}
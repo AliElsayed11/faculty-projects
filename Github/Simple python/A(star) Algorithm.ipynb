{
 "cells": [
  {
   "cell_type": "markdown",
   "id": "81c64bf7",
   "metadata": {},
   "source": [
    "## A* algoritm "
   ]
  },
  {
   "cell_type": "code",
   "execution_count": 1,
   "id": "fbc7b6ae",
   "metadata": {},
   "outputs": [],
   "source": [
    "from collections import deque\n",
    "\n",
    "class Graph:\n",
    "    # example of adjacency list (or rather map)\n",
    "    # adjacency_list = {\n",
    "    # 'A': [('B', 1), ('C', 3), ('D', 7)],\n",
    "    # 'B': [('D', 5)],\n",
    "    # 'C': [('D', 12)]\n",
    "    # }\n",
    "\n",
    "    def __init__(self, adjacency_list):\n",
    "        self.adjacency_list = adjacency_list\n",
    "\n",
    "    def get_neighbors(self, v):\n",
    "        return self.adjacency_list[v]\n",
    "\n",
    "    # heuristic function with equal values for all nodes\n",
    "    def h(self, n):\n",
    "        H = {\n",
    "            'A': 1,\n",
    "            'B': 1,\n",
    "            'C': 1,\n",
    "            'D': 1\n",
    "        }\n",
    "\n",
    "        return H[n]\n",
    "\n",
    "    def a_star_algorithm(self, start_node, stop_node):\n",
    "        # open_list is a list of nodes which have been visited, but who's neighbors\n",
    "        # haven't all been inspected, starts off with the start node\n",
    "        # closed_list is a list of nodes which have been visited\n",
    "        # and who's neighbors have been inspected\n",
    "        open_list = set([start_node])\n",
    "        closed_list = set([])\n",
    "\n",
    "        # g contains current distances from start_node to all other nodes\n",
    "        # the default value (if it's not found in the map) is +infinity\n",
    "        g = {}\n",
    "\n",
    "        g[start_node] = 0\n",
    "\n",
    "        # parents contains an adjacency map of all nodes\n",
    "        parents = {}\n",
    "        parents[start_node] = start_node\n",
    "\n",
    "        while len(open_list) > 0:\n",
    "            n = None\n",
    "\n",
    "            # find a node with the lowest value of f() - evaluation function\n",
    "            for v in open_list:\n",
    "                if n == None or g[v] + self.h(v) < g[n] + self.h(n):\n",
    "                    n = v;\n",
    "\n",
    "            if n == None:\n",
    "                print('Path does not exist!')\n",
    "                return None\n",
    "\n",
    "            # if the current node is the stop_node\n",
    "            # then we begin reconstructin the path from it to the start_node\n",
    "            if n == stop_node:\n",
    "                reconst_path = []\n",
    "\n",
    "                while parents[n] != n:\n",
    "                    reconst_path.append(n)\n",
    "                    n = parents[n]\n",
    "\n",
    "                reconst_path.append(start_node)\n",
    "\n",
    "                reconst_path.reverse()\n",
    "\n",
    "                print(\"Path found:\" )\n",
    "                return reconst_path\n",
    "\n",
    "            # for all neighbors of the current node do\n",
    "            for (m, weight) in self.get_neighbors(n):\n",
    "                # if the current node isn't in both open_list and closed_list\n",
    "                # add it to open_list and note n as it's parent\n",
    "                if m not in open_list and m not in closed_list:\n",
    "                    open_list.add(m)\n",
    "                    parents[m] = n\n",
    "                    g[m] = g[n] + weight\n",
    "\n",
    "                # otherwise, check if it's quicker to first visit n, then m\n",
    "                # and if it is, update parent data and g data\n",
    "                # and if the node was in the closed_list, move it to open_list\n",
    "                else:\n",
    "                    if g[m] > g[n] + weight:\n",
    "                        g[m] = g[n] + weight\n",
    "                        parents[m] = n\n",
    "\n",
    "                        if m in closed_list:\n",
    "                            closed_list.remove(m)\n",
    "                            open_list.add(m)\n",
    "\n",
    "            # remove n from the open_list, and add it to closed_list\n",
    "            # because all of his neighbors were inspected\n",
    "            open_list.remove(n)\n",
    "            closed_list.add(n)\n",
    "\n",
    "        print('Path does not exist!')\n",
    "        return None"
   ]
  },
  {
   "cell_type": "code",
   "execution_count": 2,
   "id": "5821201c",
   "metadata": {},
   "outputs": [
    {
     "name": "stdout",
     "output_type": "stream",
     "text": [
      "Path found:\n"
     ]
    },
    {
     "data": {
      "text/plain": [
       "['A', 'B', 'D']"
      ]
     },
     "execution_count": 2,
     "metadata": {},
     "output_type": "execute_result"
    }
   ],
   "source": [
    "adjacency_list = {\n",
    "    'A': [('B', 1), ('C', 3), ('D', 7)],\n",
    "    'B': [('D', 5)],\n",
    "    'C': [('D', 12)]\n",
    "}\n",
    "graph1 = Graph(adjacency_list)\n",
    "graph1.a_star_algorithm('A', 'D')"
   ]
  },
  {
   "cell_type": "markdown",
   "id": "0bf570af",
   "metadata": {},
   "source": [
    "## UNIFORM algoritm "
   ]
  },
  {
   "cell_type": "code",
   "execution_count": 3,
   "id": "46579a9c",
   "metadata": {},
   "outputs": [],
   "source": [
    "graph = {\n",
    "    'S' : [('A',2),('B',3),('D',5)],\n",
    "    'A' : [('C',4)],\n",
    "    'B' : [('D',4)],\n",
    "    'C' : [('D',1),('G',2)],\n",
    "    'D' : [('G',5)],\n",
    "    'G' : []\n",
    "}\n",
    "def path_cost(path):\n",
    "    total = 0\n",
    "    for (node,cost) in path:\n",
    "        total += cost\n",
    "    return total,path[-1][0] \n",
    "def ucs(graph,start,goal):\n",
    "    visited = []\n",
    "    queue = [[(start,0)]]\n",
    "    while queue:\n",
    "        queue.sort(key=path_cost)\n",
    "        path = queue.pop(0)\n",
    "        node = path[-1][0]\n",
    "        if node in visited:\n",
    "            continue\n",
    "        visited.append(node)\n",
    "        if node== goal:\n",
    "            return path\n",
    "        else:\n",
    "            adjacent_nodes = graph.get(node,[])\n",
    "            for(node2,cost) in adjacent_nodes:\n",
    "                new_path = path.copy()\n",
    "                new_path.append((node2,cost))\n",
    "                queue.append(new_path)\n",
    "\n"
   ]
  },
  {
   "cell_type": "code",
   "execution_count": 4,
   "id": "67faac96",
   "metadata": {},
   "outputs": [
    {
     "name": "stdout",
     "output_type": "stream",
     "text": [
      "Solution is [('S', 0), ('A', 2), ('C', 4), ('G', 2)]\n",
      "Cost of Solution is (8, 'G')\n"
     ]
    }
   ],
   "source": [
    "solution = ucs(graph,'S','G')\n",
    "print('Solution is',solution)\n",
    "print('Cost of Solution is',path_cost(solution))"
   ]
  },
  {
   "cell_type": "markdown",
   "id": "b052d743",
   "metadata": {},
   "source": [
    "## GREEDY algoritm "
   ]
  },
  {
   "cell_type": "code",
   "execution_count": 11,
   "id": "627deec4",
   "metadata": {},
   "outputs": [],
   "source": [
    "graph = {\n",
    "    'S' : [('A',1),('B',4)],\n",
    "    'A' : [('B',2),('C',5),('G',12)],\n",
    "    'B' : [('C',2)],\n",
    "    'C' : [('G',3)]\n",
    "}\n",
    "\n",
    "H_table = {\n",
    "'S':7,\n",
    "'A':6,\n",
    "'B':4,\n",
    "'C':2,\n",
    "'G':0\n",
    "}\n",
    "def path_h_cost(path):\n",
    "    g_cost = 0\n",
    "    for (node,cost) in path:\n",
    "        g_cost += cost\n",
    "    last_node = path[-1][0]\n",
    "    h_cost = H_table[last_node]\n",
    "    #f_cost = g_cost + h_cost not needed any more\n",
    "    return h_cost,last_node\n",
    "def greedy_search(graph,start,goal):\n",
    "    visited = []\n",
    "    queue = [[(start,0)]]\n",
    "    while queue:\n",
    "        queue.sort(key=path_h_cost)\n",
    "        path = queue.pop(0)\n",
    "        node = path[-1][0]\n",
    "        if node in visited:\n",
    "            continue\n",
    "        visited.append(node)\n",
    "        if node== goal:\n",
    "            return path\n",
    "        else:\n",
    "            adjacent_nodes = graph.get(node,[])\n",
    "            for(node2,cost) in adjacent_nodes:\n",
    "                new_path = path.copy()\n",
    "                new_path.append((node2,cost))\n",
    "                queue.append(new_path)\n",
    "                "
   ]
  },
  {
   "cell_type": "code",
   "execution_count": 12,
   "id": "aebe2022",
   "metadata": {},
   "outputs": [
    {
     "name": "stdout",
     "output_type": "stream",
     "text": [
      "Solution is [('S', 0), ('B', 4), ('C', 2), ('G', 3)]\n",
      "Cost of Solution is 0\n"
     ]
    }
   ],
   "source": [
    "solution = greedy_search(graph,'S','G')\n",
    "print('Solution is' , solution)\n",
    "print('Cost of Solution is' ,path_h_cost(solution)[0])"
   ]
  },
  {
   "cell_type": "code",
   "execution_count": null,
   "id": "909e0b9a",
   "metadata": {},
   "outputs": [],
   "source": []
  },
  {
   "cell_type": "code",
   "execution_count": null,
   "id": "ec2f3928",
   "metadata": {},
   "outputs": [],
   "source": []
  }
 ],
 "metadata": {
  "kernelspec": {
   "display_name": "Python 3 (ipykernel)",
   "language": "python",
   "name": "python3"
  },
  "language_info": {
   "codemirror_mode": {
    "name": "ipython",
    "version": 3
   },
   "file_extension": ".py",
   "mimetype": "text/x-python",
   "name": "python",
   "nbconvert_exporter": "python",
   "pygments_lexer": "ipython3",
   "version": "3.9.12"
  }
 },
 "nbformat": 4,
 "nbformat_minor": 5
}

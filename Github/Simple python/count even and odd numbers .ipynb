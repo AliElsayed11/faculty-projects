{
 "cells": [
  {
   "cell_type": "markdown",
   "id": "df3363c0",
   "metadata": {},
   "source": [
    "# Python program to count Even and Odd numbers in a List"
   ]
  },
  {
   "cell_type": "code",
   "execution_count": 48,
   "id": "57488260",
   "metadata": {},
   "outputs": [
    {
     "name": "stdout",
     "output_type": "stream",
     "text": [
      "Even numbers count in the my_list: 4 \n",
      "And The even numbers are [2, 4, 6, 8]\n",
      "\n",
      "Odd numbers count in the my_list: 5 \n",
      "And The odd numbers are [1, 3, 5, 7, 9]\n"
     ]
    }
   ],
   "source": [
    "#list that contain a series numbers\n",
    "my_list=[1,2,3,4,5,6,7,8,9]\n",
    "even_count=0\n",
    "odd_count = 0\n",
    "even=[]\n",
    "odd=[]\n",
    "for i in my_list:                    ## for loop to pass on array\n",
    " # checking condition\n",
    "    if i % 2 == 0:                  ## if reminder =0 it is even \n",
    "        even_count += 1\n",
    "        even.append(i)\n",
    "    else:                          ## if reminder !=0 it is odd \n",
    "        odd_count += 1 \n",
    "        odd_num=i\n",
    "        odd.append(i)\n",
    "print(\"Even numbers count in the my_list:\",even_count,\n",
    "      \"\\nAnd The even numbers are\",even)\n",
    "\n",
    "print(\"\\nOdd numbers count in the my_list:\",odd_count,\n",
    "      \"\\nAnd The odd numbers are\",odd)"
   ]
  },
  {
   "cell_type": "code",
   "execution_count": null,
   "id": "dc6f81c0",
   "metadata": {},
   "outputs": [],
   "source": []
  }
 ],
 "metadata": {
  "kernelspec": {
   "display_name": "Python 3 (ipykernel)",
   "language": "python",
   "name": "python3"
  },
  "language_info": {
   "codemirror_mode": {
    "name": "ipython",
    "version": 3
   },
   "file_extension": ".py",
   "mimetype": "text/x-python",
   "name": "python",
   "nbconvert_exporter": "python",
   "pygments_lexer": "ipython3",
   "version": "3.9.12"
  }
 },
 "nbformat": 4,
 "nbformat_minor": 5
}

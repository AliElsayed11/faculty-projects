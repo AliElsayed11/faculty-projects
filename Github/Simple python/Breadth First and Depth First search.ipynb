{
 "cells": [
  {
   "cell_type": "markdown",
   "id": "268fcbb9",
   "metadata": {},
   "source": [
    "## algorithm of breadth first-search\n"
   ]
  },
  {
   "cell_type": "code",
   "execution_count": 16,
   "id": "444e78ae",
   "metadata": {},
   "outputs": [
    {
     "name": "stdout",
     "output_type": "stream",
     "text": [
      "BFS: ['A', 'B', 'C', 'D', 'E']\n"
     ]
    }
   ],
   "source": [
    "def bfs(graph, source):\n",
    "    visited = set() # to keep track of already visited nodes\n",
    "    bfs_traversal = list()  # the BFS traversal result\n",
    "    queue = list()  # queue\n",
    "    \n",
    "    # push the root node to the queue and mark it as visited\n",
    "    queue.append(source)\n",
    "    visited.add(source)\n",
    "    \n",
    "    # loop until the queue is empty\n",
    "    while queue:\n",
    "        # pop the front node of the queue and add it to bfs_traversal\n",
    "        current_node = queue.pop(0)\n",
    "        bfs_traversal.append(current_node)\n",
    "        \n",
    "        # check all the neighbour nodes of the current node\n",
    "        for neighbour_node in graph[current_node]:\n",
    "            # if the neighbour nodes are not already visited, \n",
    "            # push them to the queue and mark them as visited\n",
    "            if neighbour_node not in visited:\n",
    "                visited.add(neighbour_node)\n",
    "                queue.append(neighbour_node)\n",
    "\n",
    "    return bfs_traversal\n",
    "  \n",
    "  \n",
    "def main():\n",
    "    graph = {\n",
    "        'A': ['B', 'C', 'D'], \n",
    "        'B': ['A', 'D', 'E'], \n",
    "        'C': ['A', 'D'], \n",
    "        'D': ['B', 'C', 'A', 'E'], \n",
    "        'E': ['B', 'D']\n",
    "    }\n",
    "\n",
    "    bfs_traversal = bfs(graph, 'A')\n",
    "    print(f\"BFS: {bfs_traversal}\")\n",
    "\n",
    "    \n",
    "if __name__=='__main__':\n",
    "    main()"
   ]
  },
  {
   "cell_type": "markdown",
   "id": "60f0f108",
   "metadata": {},
   "source": [
    "## algorithm of Depth first-search\n"
   ]
  },
  {
   "cell_type": "code",
   "execution_count": 17,
   "id": "c99da670",
   "metadata": {},
   "outputs": [
    {
     "name": "stdout",
     "output_type": "stream",
     "text": [
      "DFS: ['A', 'B', 'D', 'C', 'E']\n"
     ]
    }
   ],
   "source": [
    "def dfs(graph, source, visited, dfs_traversal):    \n",
    "    if source not in visited:\n",
    "        dfs_traversal.append(source)\n",
    "        visited.add(source)\n",
    "\n",
    "        for neighbor_node in graph[source]:\n",
    "            dfs(graph, neighbor_node, visited, dfs_traversal)\n",
    "\n",
    "    return dfs_traversal\n",
    "\n",
    "\n",
    "def main():\n",
    "    visited = set()\n",
    "    dfs_traversal = list()\n",
    "\n",
    "    graph = {\n",
    "        'A': ['B', 'C', 'D'], \n",
    "        'B': ['A', 'D', 'E'], \n",
    "        'C': ['A', 'D'], \n",
    "        'D': ['B', 'C', 'A', 'E'], \n",
    "        'E': ['B', 'D']\n",
    "    }\n",
    "\n",
    "    print(f\"DFS: {dfs(graph, 'A', visited, dfs_traversal)}\")\n",
    "\n",
    "\n",
    "if __name__==\"__main__\":\n",
    "    main()"
   ]
  }
 ],
 "metadata": {
  "kernelspec": {
   "display_name": "Python 3 (ipykernel)",
   "language": "python",
   "name": "python3"
  },
  "language_info": {
   "codemirror_mode": {
    "name": "ipython",
    "version": 3
   },
   "file_extension": ".py",
   "mimetype": "text/x-python",
   "name": "python",
   "nbconvert_exporter": "python",
   "pygments_lexer": "ipython3",
   "version": "3.9.12"
  }
 },
 "nbformat": 4,
 "nbformat_minor": 5
}

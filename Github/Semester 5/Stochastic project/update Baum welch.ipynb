{
 "cells": [
  {
   "cell_type": "code",
   "execution_count": 13,
   "id": "f3cbfc5d",
   "metadata": {},
   "outputs": [],
   "source": [
    "import pandas as pd\n",
    "import numpy as np"
   ]
  },
  {
   "cell_type": "markdown",
   "id": "9b3e9717",
   "metadata": {},
   "source": [
    "# Forward"
   ]
  },
  {
   "cell_type": "code",
   "execution_count": 8,
   "id": "470919ec",
   "metadata": {},
   "outputs": [],
   "source": [
    "def forward(seq, PI, P, E):  # P is our Transition matrix && E is our Emission matrix\n",
    "    N = len(PI) \n",
    "    T = len(seq) # Time\n",
    "\n",
    "    alpha = np.zeros((N, T))\n",
    "    alpha[:, 0] = PI * E[:, seq[0]]\n",
    "\n",
    "    for t in range(1, T):\n",
    "        for j in range(N):\n",
    "            alpha[j, t] = np.sum(alpha[:, t-1] * P[:, j]) * E[j, seq[t]]\n",
    "\n",
    "    return alpha"
   ]
  },
  {
   "cell_type": "code",
   "execution_count": 9,
   "id": "c3489601",
   "metadata": {},
   "outputs": [
    {
     "name": "stdout",
     "output_type": "stream",
     "text": [
      "Forward Probabilities:\n",
      "[[0.792      0.156818   0.12426401]\n",
      " [0.001      0.008019   0.0009507 ]]\n"
     ]
    }
   ],
   "source": [
    "seq = np.array([0, 1, 0])\n",
    "P = np.array([[0.99,0.01],[0.01,0.99]]) \n",
    "E = np.array([[0.8,0.2],[0.1,0.9]])\n",
    "PI = np.array([0.99, 0.01])\n",
    "\n",
    "alpha_values = forward(seq, PI, P, E)\n",
    "\n",
    "# Print results\n",
    "print(\"Forward Probabilities:\")\n",
    "print(alpha_values)"
   ]
  },
  {
   "cell_type": "markdown",
   "id": "bab3d805",
   "metadata": {},
   "source": [
    "# Backword"
   ]
  },
  {
   "cell_type": "code",
   "execution_count": 10,
   "id": "558038a9",
   "metadata": {},
   "outputs": [],
   "source": [
    "def backward(seq, P, E):\n",
    "    N = P.shape[0]\n",
    "    T = len(seq)\n",
    "\n",
    "    beta = np.zeros((N, T))\n",
    "    beta[:, -1] = 1\n",
    "\n",
    "    for t in range(T - 2, -1, -1):\n",
    "        for i in range(N):\n",
    "            beta[i, t] = np.sum(beta[:, t + 1] * P[i, :] * E[:, seq[t + 1]])\n",
    "\n",
    "    return beta"
   ]
  },
  {
   "cell_type": "code",
   "execution_count": 11,
   "id": "079f9238",
   "metadata": {},
   "outputs": [
    {
     "name": "stdout",
     "output_type": "stream",
     "text": [
      "Backward Probabilities:\n",
      "[[0.157977 0.793    1.      ]\n",
      " [0.096923 0.107    1.      ]]\n"
     ]
    }
   ],
   "source": [
    "seq = np.array([0, 1, 0])\n",
    "P = np.array([[0.99,0.01],[0.01,0.99]]) \n",
    "E = np.array([[0.8,0.2],[0.1,0.9]])\n",
    "\n",
    "beta_values = backward(seq, P, E)\n",
    "\n",
    "# Print results\n",
    "print(\"Backward Probabilities:\")\n",
    "print(beta_values)"
   ]
  },
  {
   "cell_type": "markdown",
   "id": "078ea49b",
   "metadata": {},
   "source": [
    "# Baum_Welch with input from user "
   ]
  },
  {
   "cell_type": "code",
   "execution_count": 6,
   "id": "667854ec",
   "metadata": {},
   "outputs": [
    {
     "name": "stdout",
     "output_type": "stream",
     "text": [
      "Enter the sequence (comma-separated values): 0,1,0\n",
      "Enter the number of hidden states (N): 2\n",
      "Enter the number of events (M): 2\n",
      "Estimated \"PI\":\n",
      "[1.00000000e+00 5.01297672e-12]\n",
      "\n",
      "Estimated \"P\" Matrix:\n",
      "[[9.79084070e-78 1.00000000e+00]\n",
      " [1.00000000e+00 4.18704158e-11]]\n",
      "\n",
      "Estimated \"E\" Matrix:\n",
      "[[1.00000000e+00 1.40101057e-32]\n",
      " [4.68831398e-11 1.00000000e+00]]\n",
      "Estimated \"PI\":\n",
      "[1. 0.]\n",
      "\n",
      "Estimated \"P\" Matrix:\n",
      "[[0. 1.]\n",
      " [1. 0.]]\n",
      "\n",
      "Estimated \"E\" Matrix:\n",
      "[[1. 0.]\n",
      " [0. 1.]]\n"
     ]
    }
   ],
   "source": [
    "# Forward function\n",
    "def forward(seq, PI, P, E):\n",
    "    N = len(PI)\n",
    "    T = len(seq)\n",
    "\n",
    "    alpha = np.zeros((N, T))\n",
    "    alpha[:, 0] = PI * E[:, seq[0]]\n",
    "\n",
    "    for t in range(1, T):\n",
    "        for j in range(N):\n",
    "            alpha[j, t] = np.sum(alpha[:, t-1] * P[:, j]) * E[j, seq[t]]\n",
    "\n",
    "    return alpha\n",
    "#=========================================================================\n",
    "\n",
    "# Backward function\n",
    "def backward(seq, P, E):\n",
    "    N = P.shape[0]\n",
    "    T = len(seq)\n",
    "\n",
    "    beta = np.zeros((N, T))\n",
    "    beta[:, -1] = 1\n",
    "\n",
    "    for t in range(T - 2, -1, -1):\n",
    "        for i in range(N):\n",
    "            beta[i, t] = np.sum(beta[:, t + 1] * P[i, :] * E[:, seq[t + 1]])\n",
    "\n",
    "    return beta\n",
    "#=========================================================================\n",
    "\n",
    "# Baum-Welch function\n",
    "def baum_welch(seq, N, M, max_iters=100, tol=1e-4):\n",
    "    T = len(seq)\n",
    "\n",
    "    PI = np.round(np.random.rand(N), 2)\n",
    "    P = np.round(np.random.rand(N, N), 2)\n",
    "    E = np.round(np.random.rand(N, M), 2)\n",
    "\n",
    "    for iter in range(max_iters):\n",
    "        # E-step\n",
    "        alpha = forward(seq, PI, P, E)\n",
    "        beta = backward(seq, P, E)\n",
    "        xi = np.zeros((N, N, T-1))\n",
    "\n",
    "        for t in range(T-1):\n",
    "            for i in range(N):\n",
    "                for j in range(N):\n",
    "                    xi[i, j, t] = (alpha[i, t] * P[i, j] * E[j, seq[t+1]] * beta[j, t+1]) / np.sum(alpha[:, t] * beta[:, t])\n",
    "\n",
    "        # M-step\n",
    "        PI = alpha[:, 0] / np.sum(alpha[:, 0])\n",
    "\n",
    "        for i in range(N):\n",
    "            for j in range(N):\n",
    "                P[i, j] = np.sum(xi[i, j, :]) / np.sum(np.sum(xi[i, :, :]))\n",
    "\n",
    "        for j in range(N):\n",
    "            for k in range(M):\n",
    "                E[j, k] = np.sum(alpha[j, seq == k]) / np.sum(alpha[j, :])\n",
    "\n",
    "        # Check for convergence\n",
    "        if np.abs(np.log(np.sum(alpha[:, -1]))) < tol:\n",
    "            break\n",
    "\n",
    "    return PI, P, E\n",
    "#=========================================================================\n",
    "\n",
    "# Taking input from the user\n",
    "seq_str = input(\"Enter the sequence (comma-separated values): \")\n",
    "seq = np.array([int(x) for x in seq_str.split(',')])\n",
    "\n",
    "N = int(input(\"Enter the number of hidden states (N): \"))\n",
    "M = int(input(\"Enter the number of events (M): \"))\n",
    "#=========================================================================\n",
    "\n",
    "# Using PI_hat, P_hat, E_hat\n",
    "PI_hat, P_hat, E_hat = baum_welch(seq, N, M)\n",
    "print('Estimated \"PI\":')\n",
    "print(PI_hat)\n",
    "print('\\nEstimated \"P\" Matrix:')\n",
    "print(P_hat)\n",
    "print('\\nEstimated \"E\" Matrix:')\n",
    "print(E_hat)\n",
    "#=========================================================================\n",
    "\n",
    "# Using pi_hat, A_hat, B_hat\n",
    "pi_hat, A_hat, B_hat = baum_welch(seq, N, M)\n",
    "print('Estimated \"PI\":')\n",
    "print(np.round(pi_hat, decimals=4))\n",
    "print('\\nEstimated \"P\" Matrix:')\n",
    "print(np.round(A_hat, decimals=4))\n",
    "print('\\nEstimated \"E\" Matrix:')\n",
    "print(np.round(B_hat, decimals=4))"
   ]
  },
  {
   "cell_type": "code",
   "execution_count": null,
   "id": "be27fe66",
   "metadata": {},
   "outputs": [],
   "source": []
  }
 ],
 "metadata": {
  "kernelspec": {
   "display_name": "Python 3 (ipykernel)",
   "language": "python",
   "name": "python3"
  },
  "language_info": {
   "codemirror_mode": {
    "name": "ipython",
    "version": 3
   },
   "file_extension": ".py",
   "mimetype": "text/x-python",
   "name": "python",
   "nbconvert_exporter": "python",
   "pygments_lexer": "ipython3",
   "version": "3.11.5"
  }
 },
 "nbformat": 4,
 "nbformat_minor": 5
}

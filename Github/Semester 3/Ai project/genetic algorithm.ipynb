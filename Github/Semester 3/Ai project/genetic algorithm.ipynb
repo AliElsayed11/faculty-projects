{
 "cells": [
  {
   "cell_type": "code",
   "execution_count": 25,
   "id": "e674c9ac",
   "metadata": {},
   "outputs": [],
   "source": [
    "import numpy as np\n"
   ]
  },
  {
   "cell_type": "markdown",
   "id": "026ccb76",
   "metadata": {},
   "source": [
    "## create population "
   ]
  },
  {
   "cell_type": "code",
   "execution_count": 26,
   "id": "d2ba7563",
   "metadata": {},
   "outputs": [],
   "source": [
    "def init_pop(pop_size):\n",
    "    return np.random.randint(8,size=(pop_size,8))   ##put random value from 0 to 7\n",
    "                                                    ##size 4 row and 8 column \n",
    "                                                    ##EX [4,1,2,3,4,5,7,6]"
   ]
  },
  {
   "cell_type": "markdown",
   "id": "adb1262a",
   "metadata": {},
   "source": [
    "## to calc fitness of pop"
   ]
  },
  {
   "cell_type": "code",
   "execution_count": 27,
   "id": "adbce46a",
   "metadata": {},
   "outputs": [],
   "source": [
    "def calc_fitness(population):\n",
    "    fitness_vals= []\n",
    "    for x in population:\n",
    "        penalty=0    ##number of queen she can see \n",
    "                ## we want high fitness (low penalty)\n",
    "        for i in range(8):\n",
    "            r=x[i]\n",
    "            for j in range (8):\n",
    "                if i==j:     ##do not to check the column that it is in this column\n",
    "                    continue \n",
    "                d= abs (i-j)\n",
    "                if x[j] in [r,r-d,r+d]:  ##check 3 location (note r is row of queen and d is distance between 2 column)\n",
    "                    penalty+=1\n",
    "        fitness_vals.append(penalty)\n",
    "    return -1*np.array(fitness_vals)   ## fitness(solution) = -penalty \n",
    "                "
   ]
  },
  {
   "cell_type": "markdown",
   "id": "ac2be643",
   "metadata": {},
   "source": [
    "## to selection pop    \n",
    "select high fitness ..> convert fitness to probability and select high probability"
   ]
  },
  {
   "cell_type": "code",
   "execution_count": 28,
   "id": "2cc677ee",
   "metadata": {},
   "outputs": [],
   "source": [
    "def selection (population, fitness_vals):\n",
    "    probs=fitness_vals.copy()\n",
    "    probs+=abs(probs.min())+1  ##select min value and +1 so we not want any zeros  \n",
    "    probs=probs/probs.sum()    ##divided each value by sum all value to convert to probability \n",
    "    N=len(population)\n",
    "    indices=np.arange(N)\n",
    "    selected_indices=np.random.choice(indices,size=N,p=probs)\n",
    "    selected_population=population[selected_indices]\n",
    "    return selected_population"
   ]
  },
  {
   "cell_type": "markdown",
   "id": "e867c75c",
   "metadata": {},
   "source": [
    "## to crossover every 1 pop with other pop "
   ]
  },
  {
   "cell_type": "code",
   "execution_count": 29,
   "id": "b6f1faff",
   "metadata": {},
   "outputs": [],
   "source": [
    "def crossover(parent1,parent2,pc):\n",
    "    r=np.random.random()\n",
    "    if r < pc:\n",
    "        m=np.random.randint(1,8)   ##select index from 1 to 7 to make crossover\n",
    "        child1=np.concatenate([parent1[:m],parent2[m:]])\n",
    "        child2=np.concatenate([parent2[:m],parent1[m:]])\n",
    "    else:\n",
    "        child1=parent1.copy()\n",
    "        child2=parent2.copy()\n",
    "    return child1,child2     \n",
    "    "
   ]
  },
  {
   "cell_type": "markdown",
   "id": "08394fe4",
   "metadata": {},
   "source": [
    "## method to mutation every pop "
   ]
  },
  {
   "cell_type": "code",
   "execution_count": 30,
   "id": "d9f9d0cf",
   "metadata": {},
   "outputs": [],
   "source": [
    "def mutation(individual, pm):   \n",
    "        r=np.random.random()   ##return value in range (0 to 1 )\n",
    "        if r < pm:    ##check if r less than prob_mutation ..> make mutation \n",
    "            m=np.random.randint(8)  ##return value in range from 0 to  \n",
    "            individual[m]=np.random.randint(8)     ##return value in range from 0 to 7 \n",
    "        return individual       ##if r not less than prob_mutation...> return pop copy "
   ]
  },
  {
   "cell_type": "markdown",
   "id": "d94f1d82",
   "metadata": {},
   "source": [
    "## concatenate the crossover and mutation method"
   ]
  },
  {
   "cell_type": "code",
   "execution_count": 31,
   "id": "d0079afe",
   "metadata": {},
   "outputs": [],
   "source": [
    "def crossover_mutation(selected_pop,pc,pm):\n",
    "    N=len(selected_pop)\n",
    "    new_pop=np.empty((N,8),dtype=int)   ##empty array to store pop after crossover and mutation\n",
    "    for i in range (0,N,2):   ##for crossover take 2 parent and apply crossover \n",
    "        parent1= selected_pop[i]\n",
    "        parent2=selected_pop[i+1]\n",
    "        child1,child2=crossover(parent1,parent2,pc)   #send 2 parents to function crossover\n",
    "        new_pop[i]=child1\n",
    "        new_pop[i+1]=child2\n",
    "    for i in range (N):    ##for mutation\n",
    "        mutation(new_pop[i],pm)\n",
    "    return new_pop    "
   ]
  },
  {
   "cell_type": "markdown",
   "id": "8812bb97",
   "metadata": {},
   "source": [
    "## method of algorithm\n",
    "    and put it all together\n",
    "    "
   ]
  },
  {
   "cell_type": "code",
   "execution_count": 32,
   "id": "e8649a42",
   "metadata": {},
   "outputs": [],
   "source": [
    "def eight_queens (pop_size,max_generations,pc=0.7,pm=0.01):   ##stop when fitness equal 0\n",
    "    population=init_pop(pop_size)      ##call function of make pop\n",
    "    best_fitness_overall = None    #create variable to store best fitness\n",
    "    for i_gen in range (max_generations):   ##run to max_generation or best_fitness =0\n",
    "        fitness_vals=calc_fitness(population)\n",
    "        best_i=fitness_vals.argmax()   ##argmax()...>return the index of max value\n",
    "        best_fitness=fitness_vals[best_i]  ##return value of index of max value\n",
    "        if best_fitness_overall is None or best_fitness > best_fitness_overall:\n",
    "            best_fitness_overall=best_fitness\n",
    "            best_solution= population[best_i]\n",
    "        print (f'\\ri_gen={i_gen+1:05}   -f={-best_fitness_overall:03}',end=\"\" )  ##best_fitness_overall return negative value\n",
    "        if best_fitness == 0:    ##if fitness equal 000 it is optimal solution\n",
    "                print(\"\\nFound the optimal solution\")\n",
    "                break\n",
    "        selected_pop=selection(population,fitness_vals)\n",
    "        population = crossover_mutation(selected_pop,pc,pm)\n",
    "    print(best_solution)"
   ]
  },
  {
   "cell_type": "markdown",
   "id": "376c66bd",
   "metadata": {},
   "source": [
    "## main method"
   ]
  },
  {
   "cell_type": "code",
   "execution_count": 34,
   "id": "0f866274",
   "metadata": {
    "scrolled": true
   },
   "outputs": [
    {
     "name": "stdout",
     "output_type": "stream",
     "text": [
      "i_gen=04008   -f=000\n",
      "Found the optimal solution\n",
      "[3 5 7 1 6 0 2 4]\n"
     ]
    }
   ],
   "source": [
    "eight_queens(pop_size=4,max_generations=10000,pc=0.7,pm=0.5)\n"
   ]
  }
 ],
 "metadata": {
  "kernelspec": {
   "display_name": "Python 3 (ipykernel)",
   "language": "python",
   "name": "python3"
  },
  "language_info": {
   "codemirror_mode": {
    "name": "ipython",
    "version": 3
   },
   "file_extension": ".py",
   "mimetype": "text/x-python",
   "name": "python",
   "nbconvert_exporter": "python",
   "pygments_lexer": "ipython3",
   "version": "3.9.12"
  }
 },
 "nbformat": 4,
 "nbformat_minor": 5
}
